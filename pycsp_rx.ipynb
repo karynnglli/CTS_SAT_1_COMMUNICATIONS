{
 "cells": [
  {
   "cell_type": "code",
   "execution_count": 1,
   "id": "425955ca-f1ac-4f02-b9f8-75a3a9f6c38f",
   "metadata": {},
   "outputs": [],
   "source": [
    "import pycsp as csp\n",
    "import pycsplink as csplink\n",
    "import socket\n",
    "import time\n",
    "\n",
    "from typing import Literal\n",
    "from types import SimpleNamespace\n",
    "import struct"
   ]
  },
  {
   "cell_type": "code",
   "execution_count": 2,
   "id": "c9ac45bb-b89c-4ff7-9173-8a4a1d56d666",
   "metadata": {},
   "outputs": [],
   "source": [
    "OBC_ADDR=1\n",
    "EPS_ADDR=2\n",
    "TTC_ADDR=5\n",
    "CAM_ADDR=6\n",
    "TNC_ADDR=9\n",
    "GCS_ADDR=10"
   ]
  },
  {
   "cell_type": "code",
   "execution_count": 3,
   "id": "be0e7ab3-aa9e-411c-8ae3-bb22c51ea5d4",
   "metadata": {},
   "outputs": [],
   "source": [
    "DPORT_CMP = 0\n",
    "DPORT_PING = 1\n",
    "DPORT_PS = 2\n",
    "DPORT_MEMFREE = 3\n",
    "DPORT_REBOOT = 4\n",
    "DPORT_BUF_FREE = 5\n",
    "DPORT_UPTIME = 6"
   ]
  },
  {
   "cell_type": "code",
   "execution_count": 4,
   "id": "940db368-5266-4d25-bb1d-75c2c31cc6ad",
   "metadata": {},
   "outputs": [],
   "source": [
    "class GrcLink:\n",
    "    def __init__(self, addr='127.0.0.1', port=52001, mtu=1024):\n",
    "        self.s = socket.create_connection((addr, port))\n",
    "        self.mtu = mtu\n",
    "\n",
    "    def __del__(self):\n",
    "        self.close()\n",
    "    \n",
    "    def send(self, raw_data, data):\n",
    "        self.s.sendall(raw_data + data)\n",
    "\n",
    "    def recv(self, timeout=None):\n",
    "        if not timeout is None:\n",
    "            prev_timeout = self.s.timeout\n",
    "            self.s.settimeout(timeout)\n",
    "            \n",
    "        payload = self.s.recv(self.mtu)\n",
    "        \n",
    "        if not timeout is None:\n",
    "            self.s.settimeout(prev_timeout)\n",
    "        \n",
    "        return payload\n",
    "\n",
    "    def close(self):\n",
    "        self.s.close()"
   ]
  },
  {
   "cell_type": "code",
   "execution_count": 5,
   "id": "3d9ca033-d682-4fd9-8782-f00423de4d76",
   "metadata": {},
   "outputs": [],
   "source": [
    "def parse_obc_downlink(data):\n",
    "    if data[0] == 3:\n",
    "        return data[1:].decode()\n",
    "    \n",
    "    elif data[0] == 4:\n",
    "        if len(data) < 13:\n",
    "            raise ValueError('packet too short')\n",
    "        \n",
    "        # Unpack header (big-endian; change '>' to '<' for little-endian)\n",
    "        tssent, response_code, duration_ms, seq_num, total_packets = struct.unpack(\n",
    "            \">Q B H B B\", data[:13]\n",
    "        )\n",
    "        \n",
    "        # Extract and decode content\n",
    "        raw_content = data[13:200]\n",
    "        content = raw_content.split(b\"\\x00\", 1)[0].decode(\"ascii\", errors=\"replace\")\n",
    "        \n",
    "        return {\n",
    "            \"tssent\": tssent,\n",
    "            \"response_code\": response_code,\n",
    "            \"duration_ms\": duration_ms,\n",
    "            \"sequence_number\": seq_num,\n",
    "            \"total_packets\": total_packets,\n",
    "            \"content\": content,\n",
    "        }\n",
    "\n",
    "    else:\n",
    "        return data"
   ]
  },
  {
   "cell_type": "code",
   "execution_count": 25,
   "id": "1945dc5f-a9e4-459c-adfa-604329c1cd03",
   "metadata": {},
   "outputs": [],
   "source": [
    "with open('hmac_key.txt', 'r') as f:\n",
    "    hmac_key = bytes.fromhex(f.read().strip())\n",
    "\n",
    "uplink = csplink.AX100(hmac_key=hmac_key, crc=False, reed_solomon=True, randomize=True, \n",
    "                       len_field=True, syncword=True, prefill=32, tailfill=1)\n",
    "downlink = csplink.AX100(hmac_key=None, crc=True, reed_solomon=False, randomize=False, \n",
    "                       len_field=False, syncword=False, exception=False, verbose=True)\n",
    "\n",
    "ttc = None"
   ]
  },
  {
   "cell_type": "code",
   "execution_count": 26,
   "id": "6d251174-77f0-4520-bf53-de3d14a9ef62",
   "metadata": {},
   "outputs": [],
   "source": [
    "if not ttc is None: ttc.close()\n",
    "ttc = GrcLink()"
   ]
  },
  {
   "cell_type": "code",
   "execution_count": 8,
   "id": "abf1f00e-01c8-4dde-be90-9289f49a8235",
   "metadata": {},
   "outputs": [],
   "source": [
    "#ttc.close()"
   ]
  },
  {
   "cell_type": "code",
   "execution_count": null,
   "id": "f768bde3-0682-49df-924d-e874ac1a3447",
   "metadata": {},
   "outputs": [
    {
     "name": "stdout",
     "output_type": "stream",
     "text": [
      "Src 5, Dst 10, Dport 16, Sport 1, Pri 2, Flags 0, Size 10 00010203040506070809\n",
      "Src 5, Dst 10, Dport 16, Sport 1, Pri 2, Flags 0, Size 10 00010203040506070809\n",
      "Src 5, Dst 10, Dport 16, Sport 1, Pri 2, Flags 0, Size 10 00010203040506070809\n",
      "Src 5, Dst 10, Dport 16, Sport 1, Pri 2, Flags 0, Size 10 00010203040506070809\n",
      "Src 5, Dst 10, Dport 16, Sport 1, Pri 2, Flags 0, Size 10 00010203040506070809\n",
      "Src 5, Dst 10, Dport 16, Sport 3, Pri 2, Flags 1, Size 8 00001f3b\n",
      "Src 5, Dst 10, Dport 16, Sport 5, Pri 2, Flags 1, Size 8 00000013\n",
      "Src 5, Dst 10, Dport 16, Sport 6, Pri 2, Flags 1, Size 8 000020d5\n",
      "Src 5, Dst 10, Dport 16, Sport 1, Pri 2, Flags 0, Size 10 00010203040506070809\n",
      "Src 5, Dst 10, Dport 16, Sport 1, Pri 2, Flags 0, Size 10 00010203040506070809\n",
      "Src 5, Dst 10, Dport 16, Sport 1, Pri 2, Flags 0, Size 10 00010203040506070809\n",
      "Src 5, Dst 10, Dport 16, Sport 1, Pri 2, Flags 0, Size 10 00010203040506070809\n",
      "Src 5, Dst 10, Dport 16, Sport 1, Pri 2, Flags 0, Size 10 00010203040506070809\n",
      "Src 5, Dst 10, Dport 16, Sport 1, Pri 2, Flags 0, Size 10 00010203040506070809\n",
      "Src 5, Dst 10, Dport 16, Sport 1, Pri 2, Flags 0, Size 10 00010203040506070809\n",
      "Src 5, Dst 10, Dport 16, Sport 1, Pri 2, Flags 0, Size 10 00010203040506070809\n",
      "Src 5, Dst 10, Dport 16, Sport 1, Pri 2, Flags 0, Size 10 00010203040506070809\n",
      "Src 5, Dst 10, Dport 16, Sport 1, Pri 2, Flags 0, Size 10 00010203040506070809\n",
      "Src 5, Dst 10, Dport 16, Sport 3, Pri 2, Flags 1, Size 8 00001f3b\n",
      "Src 5, Dst 10, Dport 16, Sport 5, Pri 2, Flags 1, Size 8 00000013\n",
      "Src 5, Dst 10, Dport 16, Sport 6, Pri 2, Flags 1, Size 8 00000614\n"
     ]
    }
   ],
   "source": [
    "while True:\n",
    "    ttc = GrcLink()\n",
    "\n",
    "    try:\n",
    "        rx = ttc.recv(1)\n",
    "        # filter echo packets\n",
    "        # TODO: fix this dirty impl\n",
    "        if csp.HeaderV1.from_bytes(rx[0:4]).src == GCS_ADDR:\n",
    "            continue\n",
    "\n",
    "        # decode packets\n",
    "        resp = downlink.decode(rx)\n",
    "        if not resp:\n",
    "            print(resp)\n",
    "            continue\n",
    "\n",
    "        if resp.header.src == OBC_ADDR and resp.header.dst == GCS_ADDR:\n",
    "            print(parse_obc_downlink(resp.payload))\n",
    "        else:\n",
    "            print(resp, resp.payload.hex())\n",
    "    \n",
    "    except ValueError as e:\n",
    "        print(e)\n",
    "    except TimeoutError:\n",
    "        pass\n",
    "    except KeyboardInterrupt:\n",
    "        pass\n",
    "    \n",
    "    ttc.close()"
   ]
  },
  {
   "cell_type": "code",
   "execution_count": null,
   "id": "b1d90a61-bce9-4ce5-b6ef-588b2262f07e",
   "metadata": {},
   "outputs": [],
   "source": []
  }
 ],
 "metadata": {
  "kernelspec": {
   "display_name": "Python 3 (ipykernel)",
   "language": "python",
   "name": "python3"
  },
  "language_info": {
   "codemirror_mode": {
    "name": "ipython",
    "version": 3
   },
   "file_extension": ".py",
   "mimetype": "text/x-python",
   "name": "python",
   "nbconvert_exporter": "python",
   "pygments_lexer": "ipython3",
   "version": "3.11.7"
  }
 },
 "nbformat": 4,
 "nbformat_minor": 5
}
