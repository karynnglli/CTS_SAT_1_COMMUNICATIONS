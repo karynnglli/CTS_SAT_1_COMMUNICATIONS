{
 "cells": [
  {
   "cell_type": "code",
   "execution_count": 1,
   "id": "85f06f59-65ad-4810-9757-86f761be8092",
   "metadata": {},
   "outputs": [],
   "source": [
    "import pycsp as csp\n",
    "import pycsplink as csplink\n",
    "import socket\n",
    "import time\n",
    "\n",
    "from typing import Literal"
   ]
  },
  {
   "cell_type": "code",
   "execution_count": 2,
   "id": "e419b0fb-1998-4320-9be0-25a75bf93866",
   "metadata": {},
   "outputs": [],
   "source": [
    "OBC_ADDR=1\n",
    "EPS_ADDR=2\n",
    "TTC_ADDR=5\n",
    "CAM_ADDR=6\n",
    "TNC_ADDR=9\n",
    "GCS_ADDR=10"
   ]
  },
  {
   "cell_type": "code",
   "execution_count": 3,
   "id": "d74c0161-098d-4e56-b1d0-ff9b0db05929",
   "metadata": {},
   "outputs": [],
   "source": [
    "DPORT_CMP = 0\n",
    "DPORT_PING = 1\n",
    "DPORT_PS = 2\n",
    "DPORT_MEMFREE = 3\n",
    "DPORT_REBOOT = 4\n",
    "DPORT_BUF_FREE = 5\n",
    "DPORT_UPTIME = 6"
   ]
  },
  {
   "cell_type": "code",
   "execution_count": 4,
   "id": "5404f256-b213-4a25-a61d-23748a3279cc",
   "metadata": {},
   "outputs": [],
   "source": [
    "class GrcLink:\n",
    "    def __init__(self, addr='127.0.0.1', port=52001, mtu=1024):\n",
    "        self.s = socket.create_connection((addr, port))\n",
    "        self.mtu = mtu\n",
    "\n",
    "    def __del__(self):\n",
    "        self.close()\n",
    "    \n",
    "    def send(self, raw_data, data):\n",
    "        self.s.sendall(raw_data + data)\n",
    "\n",
    "    def recv(self, timeout=None):\n",
    "        if not timeout is None:\n",
    "            prev_timeout = self.s.timeout\n",
    "            self.s.settimeout(timeout)\n",
    "            \n",
    "        payload = self.s.recv(self.mtu)\n",
    "        \n",
    "        if not timeout is None:\n",
    "            self.s.settimeout(prev_timeout)\n",
    "        \n",
    "        return payload\n",
    "\n",
    "    def close(self):\n",
    "        self.s.close()"
   ]
  },
  {
   "cell_type": "code",
   "execution_count": 5,
   "id": "78a55909-50c7-4d09-a9ed-5d653e84cc76",
   "metadata": {},
   "outputs": [],
   "source": [
    "def cts_ping(dst=TTC_ADDR):\n",
    "    SPORT = 16 # 0..63\n",
    "    packet = csp.Packet(GCS_ADDR, dst, DPORT_PING, SPORT, \n",
    "                 prio='norm', hmac_key=None, crc=False)\n",
    "    packet.payload = bytes.fromhex('00010203040506070809')\n",
    "\n",
    "    ttc.send(uplink.encode(packet), b'')\n",
    "    try:\n",
    "        ttc.recv(1) # receive echo\n",
    "        rx = ttc.recv(1)\n",
    "        resp = downlink.decode(rx)\n",
    "        print(resp, resp.payload.hex() if resp else None)\n",
    "    except TimeoutError:\n",
    "        print('TIMEOUT')\n",
    "    \n",
    "def cts_send(cmd, dst=OBC_ADDR):\n",
    "    SPORT = 16 # 0..63\n",
    "    DPORT = 7\n",
    "    packet = csp.Packet(GCS_ADDR, dst, DPORT, SPORT, \n",
    "                 prio='norm', hmac_key=None, crc=False)\n",
    "    packet.payload = cmd.encode('ascii')\n",
    "\n",
    "    ttc.send(uplink.encode(packet), b'')\n",
    "    ttc.recv(1) # receive echo\n",
    "    \n",
    "def cts_query(prop:Literal['process', 'memfree', 'buffree', 'uptime'], dst=TTC_ADDR):\n",
    "    dport = {\n",
    "        'process': DPORT_PS,\n",
    "        'memfree': DPORT_MEMFREE,\n",
    "        'buffree': DPORT_BUF_FREE,\n",
    "        'uptime' : DPORT_UPTIME\n",
    "    }[prop]\n",
    "    \n",
    "    SPORT = 16 # 0..63\n",
    "    packet = csp.Packet(GCS_ADDR, dst, dport, SPORT, \n",
    "                 prio='norm', hmac_key=None, crc=True)\n",
    "    \n",
    "    ttc.send(uplink.encode(packet), b'')\n",
    "    ttc.recv(1) # receive echo\n",
    "    try:\n",
    "        rx = ttc.recv(1)\n",
    "        resp = downlink.decode(rx)\n",
    "        val = int.from_bytes(resp.payload, 'big')\n",
    "    except TimeoutError:\n",
    "        val = None\n",
    "        pass\n",
    "\n",
    "    return val"
   ]
  },
  {
   "cell_type": "code",
   "execution_count": 39,
   "id": "65fbc65e-e6e5-4553-9cac-a887efac8a8d",
   "metadata": {},
   "outputs": [],
   "source": [
    "# def ax100_param_dump(addr='all', ax100_addr=TTC_ADDR):\n",
    "#     AX100_PORT_RPARAM = 7\n",
    "#     PARAM_PULL_ALL_REQUEST = 4\n",
    "\n",
    "#     include_mask = 0xffffffff\n",
    "#     exclude_mask = 0\n",
    "    \n",
    "#     SPORT = 16 # 0..63\n",
    "#     packet = csp.Packet(GCS_ADDR, ax100_addr, AX100_PORT_RPARAM, SPORT, crc=True)\n",
    "#     packet.payload = bytes([PARAM_PULL_ALL_REQUEST, 0, 0, 0])\n",
    "#     packet.payload += include_mask.to_bytes(4, 'big')\n",
    "#     packet.payload += exclude_mask.to_bytes(4, 'big')\n",
    "\n",
    "#     ttc.send(uplink.encode(packet), b'')\n",
    "#     ttc.recv(1) # receive echo\n",
    "#     try:\n",
    "#         rx = ttc.recv(1)\n",
    "#         resp = downlink.decode(rx)\n",
    "#         val = int.from_bytes(resp.payload, 'big')\n",
    "#     except TimeoutError:\n",
    "#         val = None\n",
    "#         pass\n",
    "#\n",
    "# DOES NOT WORK"
   ]
  },
  {
   "cell_type": "code",
   "execution_count": 33,
   "id": "1945dc5f-a9e4-459c-adfa-604329c1cd03",
   "metadata": {},
   "outputs": [],
   "source": [
    "with open('hmac_key.txt', 'r') as f:\n",
    "    hmac_key = bytes.fromhex(f.read().strip())\n",
    "\n",
    "uplink = csplink.AX100(hmac_key=hmac_key, crc=False, reed_solomon=True, randomize=True, \n",
    "                       len_field=True, syncword=True, prefill=32, tailfill=1)\n",
    "downlink = csplink.AX100(hmac_key=None, crc=True, reed_solomon=False, randomize=False, \n",
    "                       len_field=False, syncword=False, exception=False, verbose=True)\n",
    "\n",
    "ttc = None"
   ]
  },
  {
   "cell_type": "code",
   "execution_count": 70,
   "id": "0a2fb986-3741-4993-8b37-2e519414dcc5",
   "metadata": {},
   "outputs": [],
   "source": [
    "if not ttc is None: ttc.close()\n",
    "ttc = GrcLink()"
   ]
  },
  {
   "cell_type": "code",
   "execution_count": 71,
   "id": "b8c027b0-40cc-4eeb-8d58-57996d2d156c",
   "metadata": {},
   "outputs": [],
   "source": [
    "#ttc.close()"
   ]
  },
  {
   "cell_type": "code",
   "execution_count": 80,
   "id": "76ceb0d1-0bb5-4fee-829f-2cc2b0db8685",
   "metadata": {
    "scrolled": true
   },
   "outputs": [
    {
     "name": "stdout",
     "output_type": "stream",
     "text": [
      "Src 5, Dst 10, Dport 16, Sport 1, Pri 2, Flags 0, Size 10 00010203040506070809\n",
      "Src 5, Dst 10, Dport 16, Sport 1, Pri 2, Flags 0, Size 10 00010203040506070809\n",
      "Src 5, Dst 10, Dport 16, Sport 1, Pri 2, Flags 0, Size 10 00010203040506070809\n",
      "Src 5, Dst 10, Dport 16, Sport 1, Pri 2, Flags 0, Size 10 00010203040506070809\n",
      "Src 5, Dst 10, Dport 16, Sport 1, Pri 2, Flags 0, Size 10 00010203040506070809\n"
     ]
    }
   ],
   "source": [
    "for i in range(5):\n",
    "    cts_ping()\n",
    "    time.sleep(0.2)"
   ]
  },
  {
   "cell_type": "code",
   "execution_count": 81,
   "id": "091ab984-d7fd-4684-82fa-134f5ec3e1d5",
   "metadata": {},
   "outputs": [
    {
     "name": "stdout",
     "output_type": "stream",
     "text": [
      "process None\n",
      "memfree 7995\n",
      "buffree 19\n",
      "uptime 1556\n"
     ]
    },
    {
     "data": {
      "text/plain": [
       "[None, None, None, None]"
      ]
     },
     "execution_count": 81,
     "metadata": {},
     "output_type": "execute_result"
    }
   ],
   "source": [
    "[print(key, cts_query(key)) for key in ['process', 'memfree', 'buffree', 'uptime']]"
   ]
  },
  {
   "cell_type": "code",
   "execution_count": 74,
   "id": "408d0263-b826-4a4b-8fba-5625cc045808",
   "metadata": {},
   "outputs": [],
   "source": [
    "cts_send('CTS1+hello_world()!')"
   ]
  },
  {
   "cell_type": "code",
   "execution_count": 18,
   "id": "e09a2a15-9d21-496d-9ecd-67bab75df814",
   "metadata": {},
   "outputs": [],
   "source": [
    "cts_send('CTS1+fs_mount()!')"
   ]
  },
  {
   "cell_type": "code",
   "execution_count": 15,
   "id": "b7198057-fe10-43fc-884d-48dcf33967a5",
   "metadata": {},
   "outputs": [],
   "source": [
    "cts_send('CTS1+fs_list_directory(/,0,10)!')"
   ]
  },
  {
   "cell_type": "code",
   "execution_count": 40,
   "id": "63e22335-3f15-4405-a86b-a18197cecb4d",
   "metadata": {},
   "outputs": [],
   "source": [
    "ax100_param_dump('all')"
   ]
  },
  {
   "cell_type": "code",
   "execution_count": null,
   "id": "05325ed9-1a9e-4f38-a970-fd5041e453d0",
   "metadata": {},
   "outputs": [],
   "source": []
  }
 ],
 "metadata": {
  "kernelspec": {
   "display_name": "Python 3 (ipykernel)",
   "language": "python",
   "name": "python3"
  },
  "language_info": {
   "codemirror_mode": {
    "name": "ipython",
    "version": 3
   },
   "file_extension": ".py",
   "mimetype": "text/x-python",
   "name": "python",
   "nbconvert_exporter": "python",
   "pygments_lexer": "ipython3",
   "version": "3.11.7"
  }
 },
 "nbformat": 4,
 "nbformat_minor": 5
}
